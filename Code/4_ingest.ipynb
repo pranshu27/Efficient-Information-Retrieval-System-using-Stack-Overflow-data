{
 "cells": [
  {
   "cell_type": "code",
   "execution_count": 1,
   "metadata": {},
   "outputs": [],
   "source": [
    "import pandas as pd\n",
    "import warnings\n",
    "warnings.simplefilter(\"ignore\")\n",
    "import json\n",
    "import pandas as pd\n",
    "import requests\n",
    "import logging\n",
    "logging.getLogger('requests').setLevel(logging.CRITICAL)"
   ]
  },
  {
   "cell_type": "code",
   "execution_count": 3,
   "metadata": {},
   "outputs": [],
   "source": [
    "from elasticsearch import Elasticsearch\n",
    "es = Elasticsearch(hosts = [\n",
    "    'http://localhost:9201'\n",
    "])"
   ]
  },
  {
   "cell_type": "code",
   "execution_count": 4,
   "metadata": {},
   "outputs": [
    {
     "data": {
      "text/plain": [
       "ObjectApiResponse({'name': 'Pranshus-MacBook-Air.local', 'cluster_name': 'elasticsearch_joker', 'cluster_uuid': '4Db_3SArQvavfi4B4Hb91g', 'version': {'number': '7.17.3', 'build_flavor': 'default', 'build_type': 'tar', 'build_hash': '5ad023604c8d7416c9eb6c0eadb62b14e766caff', 'build_date': '2022-04-19T08:11:19.070913226Z', 'build_snapshot': False, 'lucene_version': '8.11.1', 'minimum_wire_compatibility_version': '6.8.0', 'minimum_index_compatibility_version': '6.0.0-beta1'}, 'tagline': 'You Know, for Search'})"
      ]
     },
     "execution_count": 4,
     "metadata": {},
     "output_type": "execute_result"
    }
   ],
   "source": [
    "es.info()"
   ]
  },
  {
   "cell_type": "code",
   "execution_count": 5,
   "metadata": {},
   "outputs": [],
   "source": [
    "import numpy as np\n",
    "import pandas as pd\n",
    "\n",
    "df = pd.read_pickle(\"final1.pkl\")"
   ]
  },
  {
   "cell_type": "code",
   "execution_count": 6,
   "metadata": {},
   "outputs": [
    {
     "data": {
      "text/html": [
       "<div>\n",
       "<style scoped>\n",
       "    .dataframe tbody tr th:only-of-type {\n",
       "        vertical-align: middle;\n",
       "    }\n",
       "\n",
       "    .dataframe tbody tr th {\n",
       "        vertical-align: top;\n",
       "    }\n",
       "\n",
       "    .dataframe thead th {\n",
       "        text-align: right;\n",
       "    }\n",
       "</style>\n",
       "<table border=\"1\" class=\"dataframe\">\n",
       "  <thead>\n",
       "    <tr style=\"text-align: right;\">\n",
       "      <th></th>\n",
       "      <th>Id</th>\n",
       "      <th>CreationDate</th>\n",
       "      <th>Score</th>\n",
       "      <th>Title</th>\n",
       "      <th>Body</th>\n",
       "      <th>Tag</th>\n",
       "      <th>title_vec</th>\n",
       "    </tr>\n",
       "  </thead>\n",
       "  <tbody>\n",
       "    <tr>\n",
       "      <th>0</th>\n",
       "      <td>80</td>\n",
       "      <td>2008-08-01T13:57:07Z</td>\n",
       "      <td>26</td>\n",
       "      <td>SQLStatement.execute() - multiple queries in o...</td>\n",
       "      <td>Ive written database generation script SQL wan...</td>\n",
       "      <td>flex,actionscript-3,air</td>\n",
       "      <td>[-0.5923703908920288, 0.18966519832611084, 0.0...</td>\n",
       "    </tr>\n",
       "    <tr>\n",
       "      <th>1</th>\n",
       "      <td>90</td>\n",
       "      <td>2008-08-01T14:41:24Z</td>\n",
       "      <td>144</td>\n",
       "      <td>Good branching and merging tutorials for Torto...</td>\n",
       "      <td>Are really good tutorials explaining branching...</td>\n",
       "      <td>svn,tortoisesvn,branch,branching-and-merging</td>\n",
       "      <td>[-0.18364280462265015, 0.031254399567842484, 0...</td>\n",
       "    </tr>\n",
       "    <tr>\n",
       "      <th>2</th>\n",
       "      <td>120</td>\n",
       "      <td>2008-08-01T15:50:08Z</td>\n",
       "      <td>21</td>\n",
       "      <td>ASP.NET Site Maps</td>\n",
       "      <td>Has anyone got experience creating SQLbased AS...</td>\n",
       "      <td>sql,asp.net,sitemap</td>\n",
       "      <td>[0.0, 0.0, 0.0, 0.0, 0.0, 0.0, 0.0, 0.0, 0.0, ...</td>\n",
       "    </tr>\n",
       "    <tr>\n",
       "      <th>3</th>\n",
       "      <td>180</td>\n",
       "      <td>2008-08-01T18:42:19Z</td>\n",
       "      <td>53</td>\n",
       "      <td>Function for creating color wheels</td>\n",
       "      <td>This something Ive pseudosolved many times nev...</td>\n",
       "      <td>algorithm,language-agnostic,colors,color-space</td>\n",
       "      <td>[-0.10257666558027267, 0.21121667325496674, 0....</td>\n",
       "    </tr>\n",
       "    <tr>\n",
       "      <th>4</th>\n",
       "      <td>260</td>\n",
       "      <td>2008-08-01T23:22:08Z</td>\n",
       "      <td>49</td>\n",
       "      <td>Adding scripting functionality to .NET applica...</td>\n",
       "      <td>I little game written C It uses database backe...</td>\n",
       "      <td>c#,.net,scripting,compiler-construction</td>\n",
       "      <td>[-0.5590633749961853, 0.12501268088817596, -0....</td>\n",
       "    </tr>\n",
       "    <tr>\n",
       "      <th>...</th>\n",
       "      <td>...</td>\n",
       "      <td>...</td>\n",
       "      <td>...</td>\n",
       "      <td>...</td>\n",
       "      <td>...</td>\n",
       "      <td>...</td>\n",
       "      <td>...</td>\n",
       "    </tr>\n",
       "    <tr>\n",
       "      <th>1102563</th>\n",
       "      <td>40142860</td>\n",
       "      <td>2016-10-19T23:01:07Z</td>\n",
       "      <td>0</td>\n",
       "      <td>Adding large data in Excel</td>\n",
       "      <td>I around 200000 data excel separated per 15min...</td>\n",
       "      <td>excel,excel-formula</td>\n",
       "      <td>[-0.4378100335597992, 0.1316293329000473, 0.09...</td>\n",
       "    </tr>\n",
       "    <tr>\n",
       "      <th>1102564</th>\n",
       "      <td>40142900</td>\n",
       "      <td>2016-10-19T23:05:07Z</td>\n",
       "      <td>0</td>\n",
       "      <td>LinkedIN Encounter error: Your application has...</td>\n",
       "      <td>I able connect LinkedIn API two months everyth...</td>\n",
       "      <td>api,oauth,linkedin</td>\n",
       "      <td>[-0.1463644653558731, 0.04537837207317352, -0....</td>\n",
       "    </tr>\n",
       "    <tr>\n",
       "      <th>1102565</th>\n",
       "      <td>40142910</td>\n",
       "      <td>2016-10-19T23:05:49Z</td>\n",
       "      <td>0</td>\n",
       "      <td>Validation for must_be_below_user_limit allowi...</td>\n",
       "      <td>So I Am building multitenant app Rails 4 Apart...</td>\n",
       "      <td>ruby-on-rails,validation,ruby-on-rails-4</td>\n",
       "      <td>[-0.4635421633720398, 0.23969916999340057, -0....</td>\n",
       "    </tr>\n",
       "    <tr>\n",
       "      <th>1102566</th>\n",
       "      <td>40142940</td>\n",
       "      <td>2016-10-19T23:08:42Z</td>\n",
       "      <td>-1</td>\n",
       "      <td>Drawing an iscosceles triangle of asteriks on C++</td>\n",
       "      <td>I learning c Im trying draw iscosceles triangl...</td>\n",
       "      <td>c++</td>\n",
       "      <td>[-0.039291754364967346, 0.08876225352287292, 0...</td>\n",
       "    </tr>\n",
       "    <tr>\n",
       "      <th>1102567</th>\n",
       "      <td>40143190</td>\n",
       "      <td>2016-10-19T23:36:01Z</td>\n",
       "      <td>1</td>\n",
       "      <td>How to execute multiline python code from a ba...</td>\n",
       "      <td>I need extend shell script bash As I much fami...</td>\n",
       "      <td>python,bash,multiline</td>\n",
       "      <td>[-0.39544877409935, 0.004783254116773605, -0.1...</td>\n",
       "    </tr>\n",
       "  </tbody>\n",
       "</table>\n",
       "<p>1102568 rows × 7 columns</p>\n",
       "</div>"
      ],
      "text/plain": [
       "               Id          CreationDate  Score  \\\n",
       "0              80  2008-08-01T13:57:07Z     26   \n",
       "1              90  2008-08-01T14:41:24Z    144   \n",
       "2             120  2008-08-01T15:50:08Z     21   \n",
       "3             180  2008-08-01T18:42:19Z     53   \n",
       "4             260  2008-08-01T23:22:08Z     49   \n",
       "...           ...                   ...    ...   \n",
       "1102563  40142860  2016-10-19T23:01:07Z      0   \n",
       "1102564  40142900  2016-10-19T23:05:07Z      0   \n",
       "1102565  40142910  2016-10-19T23:05:49Z      0   \n",
       "1102566  40142940  2016-10-19T23:08:42Z     -1   \n",
       "1102567  40143190  2016-10-19T23:36:01Z      1   \n",
       "\n",
       "                                                     Title  \\\n",
       "0        SQLStatement.execute() - multiple queries in o...   \n",
       "1        Good branching and merging tutorials for Torto...   \n",
       "2                                        ASP.NET Site Maps   \n",
       "3                       Function for creating color wheels   \n",
       "4        Adding scripting functionality to .NET applica...   \n",
       "...                                                    ...   \n",
       "1102563                         Adding large data in Excel   \n",
       "1102564  LinkedIN Encounter error: Your application has...   \n",
       "1102565  Validation for must_be_below_user_limit allowi...   \n",
       "1102566  Drawing an iscosceles triangle of asteriks on C++   \n",
       "1102567  How to execute multiline python code from a ba...   \n",
       "\n",
       "                                                      Body  \\\n",
       "0        Ive written database generation script SQL wan...   \n",
       "1        Are really good tutorials explaining branching...   \n",
       "2        Has anyone got experience creating SQLbased AS...   \n",
       "3        This something Ive pseudosolved many times nev...   \n",
       "4        I little game written C It uses database backe...   \n",
       "...                                                    ...   \n",
       "1102563  I around 200000 data excel separated per 15min...   \n",
       "1102564  I able connect LinkedIn API two months everyth...   \n",
       "1102565  So I Am building multitenant app Rails 4 Apart...   \n",
       "1102566  I learning c Im trying draw iscosceles triangl...   \n",
       "1102567  I need extend shell script bash As I much fami...   \n",
       "\n",
       "                                                    Tag  \\\n",
       "0                               flex,actionscript-3,air   \n",
       "1          svn,tortoisesvn,branch,branching-and-merging   \n",
       "2                                   sql,asp.net,sitemap   \n",
       "3        algorithm,language-agnostic,colors,color-space   \n",
       "4               c#,.net,scripting,compiler-construction   \n",
       "...                                                 ...   \n",
       "1102563                             excel,excel-formula   \n",
       "1102564                              api,oauth,linkedin   \n",
       "1102565        ruby-on-rails,validation,ruby-on-rails-4   \n",
       "1102566                                             c++   \n",
       "1102567                           python,bash,multiline   \n",
       "\n",
       "                                                 title_vec  \n",
       "0        [-0.5923703908920288, 0.18966519832611084, 0.0...  \n",
       "1        [-0.18364280462265015, 0.031254399567842484, 0...  \n",
       "2        [0.0, 0.0, 0.0, 0.0, 0.0, 0.0, 0.0, 0.0, 0.0, ...  \n",
       "3        [-0.10257666558027267, 0.21121667325496674, 0....  \n",
       "4        [-0.5590633749961853, 0.12501268088817596, -0....  \n",
       "...                                                    ...  \n",
       "1102563  [-0.4378100335597992, 0.1316293329000473, 0.09...  \n",
       "1102564  [-0.1463644653558731, 0.04537837207317352, -0....  \n",
       "1102565  [-0.4635421633720398, 0.23969916999340057, -0....  \n",
       "1102566  [-0.039291754364967346, 0.08876225352287292, 0...  \n",
       "1102567  [-0.39544877409935, 0.004783254116773605, -0.1...  \n",
       "\n",
       "[1102568 rows x 7 columns]"
      ]
     },
     "execution_count": 6,
     "metadata": {},
     "output_type": "execute_result"
    }
   ],
   "source": [
    "df"
   ]
  },
  {
   "cell_type": "code",
   "execution_count": 21,
   "metadata": {},
   "outputs": [],
   "source": [
    "try:\n",
    "    es.indices.create(index = 'so-vec-ret')\n",
    "except:\n",
    "    pass"
   ]
  },
  {
   "cell_type": "code",
   "execution_count": 10,
   "metadata": {},
   "outputs": [
    {
     "data": {
      "text/plain": [
       "Index(['Id', 'CreationDate', 'Score', 'Title', 'Body', 'Tag', 'title_vec'], dtype='object')"
      ]
     },
     "execution_count": 10,
     "metadata": {},
     "output_type": "execute_result"
    }
   ],
   "source": [
    "df.columns"
   ]
  },
  {
   "cell_type": "code",
   "execution_count": 11,
   "metadata": {},
   "outputs": [
    {
     "data": {
      "text/plain": [
       "Id               int64\n",
       "CreationDate    object\n",
       "Score            int64\n",
       "Title           object\n",
       "Body            object\n",
       "Tag             object\n",
       "title_vec       object\n",
       "dtype: object"
      ]
     },
     "execution_count": 11,
     "metadata": {},
     "output_type": "execute_result"
    }
   ],
   "source": [
    "df.dtypes"
   ]
  },
  {
   "cell_type": "code",
   "execution_count": 16,
   "metadata": {},
   "outputs": [],
   "source": [
    "from json import JSONEncoder\n"
   ]
  },
  {
   "cell_type": "code",
   "execution_count": 19,
   "metadata": {},
   "outputs": [],
   "source": [
    "class NumpyArrayEncoder(JSONEncoder):\n",
    "    def default(self, obj):\n",
    "        if isinstance(obj, np.ndarray):\n",
    "            return obj.tolist()\n",
    "        return JSONEncoder.default(self, obj)"
   ]
  },
  {
   "cell_type": "code",
   "execution_count": 14,
   "metadata": {},
   "outputs": [],
   "source": [
    "df_split = np.array_split(df, 4)"
   ]
  },
  {
   "cell_type": "code",
   "execution_count": 15,
   "metadata": {},
   "outputs": [],
   "source": [
    "index = 'so-vec-ret'\n",
    "typ = 'test'\n",
    "server = 'http://localhost:9201'\n",
    "\n",
    "headers = {'content-type': 'application/x-ndjson', 'Accept-Charset': 'UTF-8'}\n",
    "records = df_split[0].to_dict(orient='records')\n",
    "actions = [\"\"\"{ \"index\" : { \"_index\" : \"%s\", \"_type\" : \"%s\"} }\\n\"\"\" % (index, typ) +json.dumps(records[j])\n",
    "                for j in range(len(records))]"
   ]
  },
  {
   "cell_type": "code",
   "execution_count": 28,
   "metadata": {},
   "outputs": [
    {
     "name": "stdout",
     "output_type": "stream",
     "text": [
      "0\n",
      "10000\n",
      "20000\n",
      "30000\n",
      "40000\n",
      "50000\n",
      "60000\n",
      "70000\n",
      "80000\n",
      "90000\n",
      "100000\n",
      "110000\n",
      "120000\n",
      "130000\n"
     ]
    }
   ],
   "source": [
    "chunk_size = 5000\n",
    "\n",
    "#actions1 = [json.dumps(records[j], cls=NumpyArrayEncoder) for j in ]\n",
    "        \n",
    "i=0\n",
    "while i<len(actions):\n",
    "    if(i%10000 == 0):\n",
    "        print(i)\n",
    "    try:\n",
    "        serverAPI = server + '/_bulk' \n",
    "        data='\\n'.join(actions[i:min([i+chunk_size,len(actions)])])\n",
    "        data = data + '\\n'\n",
    "        r = requests.post(serverAPI, data = data, headers=headers)\n",
    "        #print (r.content)\n",
    "    except:\n",
    "        break\n",
    "    i = i+chunk_size"
   ]
  },
  {
   "cell_type": "code",
   "execution_count": null,
   "metadata": {},
   "outputs": [],
   "source": [
    "index = 'so-vec-ret'\n",
    "typ = 'test'\n",
    "server = 'http://localhost:9201'\n",
    "\n",
    "headers = {'content-type': 'application/x-ndjson', 'Accept-Charset': 'UTF-8'}\n",
    "records = df_split[1].to_dict(orient='records')\n",
    "actions = [\"\"\"{ \"index\" : { \"_index\" : \"%s\", \"_type\" : \"%s\"} }\\n\"\"\" % (index, typ) +json.dumps(records[j])\n",
    "                for j in range(len(records))]\n",
    "\n",
    "chunk_size = 5000\n",
    "\n",
    "#actions1 = [json.dumps(records[j], cls=NumpyArrayEncoder) for j in ]\n",
    "        \n",
    "i=0\n",
    "while i<len(actions):\n",
    "    if(i%10000 == 0):\n",
    "        print(i)\n",
    "    try:\n",
    "        serverAPI = server + '/_bulk' \n",
    "        data='\\n'.join(actions[i:min([i+chunk_size,len(actions)])])\n",
    "        data = data + '\\n'\n",
    "        r = requests.post(serverAPI, data = data, headers=headers)\n",
    "        #print (r.content)\n",
    "    except:\n",
    "        break\n",
    "    i = i+chunk_size"
   ]
  },
  {
   "cell_type": "code",
   "execution_count": null,
   "metadata": {},
   "outputs": [
    {
     "name": "stdout",
     "output_type": "stream",
     "text": [
      "0\n",
      "100000\n",
      "200000\n",
      "300000\n",
      "400000\n",
      "500000\n",
      "600000\n",
      "700000\n",
      "800000\n",
      "900000\n",
      "1000000\n",
      "1100000\n"
     ]
    }
   ],
   "source": [
    "index = 'so-vec-ret'\n",
    "typ = 'test'\n",
    "server = 'http://localhost:9201'\n",
    "\n",
    "headers = {'content-type': 'application/x-ndjson', 'Accept-Charset': 'UTF-8'}\n",
    "records = df_split[2].to_dict(orient='records')\n",
    "actions = [\"\"\"{ \"index\" : { \"_index\" : \"%s\", \"_type\" : \"%s\"} }\\n\"\"\" % (index, typ) +json.dumps(records[j])\n",
    "                for j in range(len(records))]\n",
    "chunk_size = 5000\n",
    "\n",
    "#actions1 = [json.dumps(records[j], cls=NumpyArrayEncoder) for j in ]\n",
    "        \n",
    "i=0\n",
    "while i<len(actions):\n",
    "    if(i%10000 == 0):\n",
    "        print(i)\n",
    "    try:\n",
    "        serverAPI = server + '/_bulk' \n",
    "        data='\\n'.join(actions[i:min([i+chunk_size,len(actions)])])\n",
    "        data = data + '\\n'\n",
    "        r = requests.post(serverAPI, data = data, headers=headers)\n",
    "        #print (r.content)\n",
    "    except:\n",
    "        break\n",
    "    i = i+chunk_size"
   ]
  },
  {
   "cell_type": "code",
   "execution_count": null,
   "metadata": {},
   "outputs": [],
   "source": []
  },
  {
   "cell_type": "code",
   "execution_count": null,
   "metadata": {},
   "outputs": [],
   "source": [
    "index = 'so-vec-ret'\n",
    "typ = 'test'\n",
    "server = 'http://localhost:9201'\n",
    "\n",
    "headers = {'content-type': 'application/x-ndjson', 'Accept-Charset': 'UTF-8'}\n",
    "records = df_split[3].to_dict(orient='records')\n",
    "actions = [\"\"\"{ \"index\" : { \"_index\" : \"%s\", \"_type\" : \"%s\"} }\\n\"\"\" % (index, typ) +json.dumps(records[j])\n",
    "                for j in range(len(records))]\n",
    "\n",
    "chunk_size = 5000\n",
    "\n",
    "#actions1 = [json.dumps(records[j], cls=NumpyArrayEncoder) for j in ]\n",
    "        \n",
    "i=0\n",
    "while i<len(actions):\n",
    "    if(i%10000 == 0):\n",
    "        print(i)\n",
    "    try:\n",
    "        serverAPI = server + '/_bulk' \n",
    "        data='\\n'.join(actions[i:min([i+chunk_size,len(actions)])])\n",
    "        data = data + '\\n'\n",
    "        r = requests.post(serverAPI, data = data, headers=headers)\n",
    "        #print (r.content)\n",
    "    except:\n",
    "        break\n",
    "    i = i+chunk_size"
   ]
  },
  {
   "cell_type": "code",
   "execution_count": null,
   "metadata": {},
   "outputs": [],
   "source": [
    "try:\n",
    "    b = {\n",
    "        \"mappings\": {\n",
    "            \"properties\": {\n",
    "                \"Title\": {\n",
    "                    \"type\": \"text\"\n",
    "                },\n",
    "                \"title_vec\": {\n",
    "                    \"type\": \"dense_vector\",\n",
    "                    \"dims\": 300\n",
    "                }\n",
    "            }\n",
    "        }\n",
    "    }\n",
    "\n",
    "\n",
    "    ret = es.indices.create(index='so-vec-ret', ignore=400, body=b) #400 caused by IndexAlreadyExistsException, \n",
    "    print(json.dumps(ret,indent=4))\n",
    "except:\n",
    "    print(\"cant\")"
   ]
  }
 ],
 "metadata": {
  "interpreter": {
   "hash": "66e3d188d02a210bab72f20c506ffac958ef9b0a7153119813a4060f203dc33d"
  },
  "kernelspec": {
   "display_name": "Python 3.9.7 ('base')",
   "language": "python",
   "name": "python3"
  },
  "language_info": {
   "codemirror_mode": {
    "name": "ipython",
    "version": 3
   },
   "file_extension": ".py",
   "mimetype": "text/x-python",
   "name": "python",
   "nbconvert_exporter": "python",
   "pygments_lexer": "ipython3",
   "version": "3.9.7"
  },
  "orig_nbformat": 4
 },
 "nbformat": 4,
 "nbformat_minor": 2
}
