{
  "cells": [
    {
      "cell_type": "markdown",
      "metadata": {
        "id": "FpO2PTY-WP6M"
      },
      "source": [
        "### Import libraries"
      ]
    },
    {
      "cell_type": "code",
      "execution_count": 1,
      "metadata": {
        "colab": {
          "base_uri": "https://localhost:8080/"
        },
        "id": "0zhdrdiLrX66",
        "outputId": "90850e50-cfa4-491b-c7dc-a1781ca22570"
      },
      "outputs": [],
      "source": [
        "import pandas as pd"
      ]
    },
    {
      "cell_type": "markdown",
      "metadata": {},
      "source": [
        "## Reading questions_answers_tags.csv"
      ]
    },
    {
      "cell_type": "code",
      "execution_count": 3,
      "metadata": {},
      "outputs": [
        {
          "data": {
            "text/html": [
              "<div>\n",
              "<style scoped>\n",
              "    .dataframe tbody tr th:only-of-type {\n",
              "        vertical-align: middle;\n",
              "    }\n",
              "\n",
              "    .dataframe tbody tr th {\n",
              "        vertical-align: top;\n",
              "    }\n",
              "\n",
              "    .dataframe thead th {\n",
              "        text-align: right;\n",
              "    }\n",
              "</style>\n",
              "<table border=\"1\" class=\"dataframe\">\n",
              "  <thead>\n",
              "    <tr style=\"text-align: right;\">\n",
              "      <th></th>\n",
              "      <th>Id</th>\n",
              "      <th>CreationDate</th>\n",
              "      <th>Score</th>\n",
              "      <th>Title</th>\n",
              "      <th>Body</th>\n",
              "      <th>Tag</th>\n",
              "    </tr>\n",
              "  </thead>\n",
              "  <tbody>\n",
              "    <tr>\n",
              "      <th>0</th>\n",
              "      <td>80</td>\n",
              "      <td>2008-08-01T13:57:07Z</td>\n",
              "      <td>26</td>\n",
              "      <td>SQLStatement.execute() - multiple queries in o...</td>\n",
              "      <td>I've written database generation script SQL wa...</td>\n",
              "      <td>flex,actionscript-3,air</td>\n",
              "    </tr>\n",
              "    <tr>\n",
              "      <th>3</th>\n",
              "      <td>90</td>\n",
              "      <td>2008-08-01T14:41:24Z</td>\n",
              "      <td>144</td>\n",
              "      <td>Good branching and merging tutorials for Torto...</td>\n",
              "      <td>Are really good tutorials explaining branching...</td>\n",
              "      <td>svn,tortoisesvn,branch,branching-and-merging</td>\n",
              "    </tr>\n",
              "    <tr>\n",
              "      <th>6</th>\n",
              "      <td>120</td>\n",
              "      <td>2008-08-01T15:50:08Z</td>\n",
              "      <td>21</td>\n",
              "      <td>ASP.NET Site Maps</td>\n",
              "      <td>Has anyone got experience creating SQL-based A...</td>\n",
              "      <td>sql,asp.net,sitemap</td>\n",
              "    </tr>\n",
              "    <tr>\n",
              "      <th>7</th>\n",
              "      <td>180</td>\n",
              "      <td>2008-08-01T18:42:19Z</td>\n",
              "      <td>53</td>\n",
              "      <td>Function for creating color wheels</td>\n",
              "      <td>This something I've pseudo-solved many times n...</td>\n",
              "      <td>algorithm,language-agnostic,colors,color-space</td>\n",
              "    </tr>\n",
              "    <tr>\n",
              "      <th>16</th>\n",
              "      <td>260</td>\n",
              "      <td>2008-08-01T23:22:08Z</td>\n",
              "      <td>49</td>\n",
              "      <td>Adding scripting functionality to .NET applica...</td>\n",
              "      <td>I little game written C#. It uses database bac...</td>\n",
              "      <td>c#,.net,scripting,compiler-construction</td>\n",
              "    </tr>\n",
              "    <tr>\n",
              "      <th>...</th>\n",
              "      <td>...</td>\n",
              "      <td>...</td>\n",
              "      <td>...</td>\n",
              "      <td>...</td>\n",
              "      <td>...</td>\n",
              "      <td>...</td>\n",
              "    </tr>\n",
              "    <tr>\n",
              "      <th>2014509</th>\n",
              "      <td>40142860</td>\n",
              "      <td>2016-10-19T23:01:07Z</td>\n",
              "      <td>0</td>\n",
              "      <td>Adding large data in Excel</td>\n",
              "      <td>I around 200,000 data excel separated per 15mi...</td>\n",
              "      <td>excel,excel-formula</td>\n",
              "    </tr>\n",
              "    <tr>\n",
              "      <th>2014510</th>\n",
              "      <td>40142900</td>\n",
              "      <td>2016-10-19T23:05:07Z</td>\n",
              "      <td>0</td>\n",
              "      <td>LinkedIN Encounter error: Your application has...</td>\n",
              "      <td>I able connect LinkedIn API two months everyth...</td>\n",
              "      <td>api,oauth,linkedin</td>\n",
              "    </tr>\n",
              "    <tr>\n",
              "      <th>2014511</th>\n",
              "      <td>40142910</td>\n",
              "      <td>2016-10-19T23:05:49Z</td>\n",
              "      <td>0</td>\n",
              "      <td>Validation for must_be_below_user_limit allowi...</td>\n",
              "      <td>So I Am building multi-tenant app Rails 4 Apar...</td>\n",
              "      <td>ruby-on-rails,validation,ruby-on-rails-4</td>\n",
              "    </tr>\n",
              "    <tr>\n",
              "      <th>2014512</th>\n",
              "      <td>40142940</td>\n",
              "      <td>2016-10-19T23:08:42Z</td>\n",
              "      <td>-1</td>\n",
              "      <td>Drawing an iscosceles triangle of asteriks on C++</td>\n",
              "      <td>I learning c++ I'm trying draw iscosceles tria...</td>\n",
              "      <td>c++</td>\n",
              "    </tr>\n",
              "    <tr>\n",
              "      <th>2014514</th>\n",
              "      <td>40143190</td>\n",
              "      <td>2016-10-19T23:36:01Z</td>\n",
              "      <td>1</td>\n",
              "      <td>How to execute multiline python code from a ba...</td>\n",
              "      <td>I need extend shell script (bash). As I much f...</td>\n",
              "      <td>python,bash,multiline</td>\n",
              "    </tr>\n",
              "  </tbody>\n",
              "</table>\n",
              "<p>1102568 rows × 6 columns</p>\n",
              "</div>"
            ],
            "text/plain": [
              "               Id          CreationDate  Score  \\\n",
              "0              80  2008-08-01T13:57:07Z     26   \n",
              "3              90  2008-08-01T14:41:24Z    144   \n",
              "6             120  2008-08-01T15:50:08Z     21   \n",
              "7             180  2008-08-01T18:42:19Z     53   \n",
              "16            260  2008-08-01T23:22:08Z     49   \n",
              "...           ...                   ...    ...   \n",
              "2014509  40142860  2016-10-19T23:01:07Z      0   \n",
              "2014510  40142900  2016-10-19T23:05:07Z      0   \n",
              "2014511  40142910  2016-10-19T23:05:49Z      0   \n",
              "2014512  40142940  2016-10-19T23:08:42Z     -1   \n",
              "2014514  40143190  2016-10-19T23:36:01Z      1   \n",
              "\n",
              "                                                     Title  \\\n",
              "0        SQLStatement.execute() - multiple queries in o...   \n",
              "3        Good branching and merging tutorials for Torto...   \n",
              "6                                        ASP.NET Site Maps   \n",
              "7                       Function for creating color wheels   \n",
              "16       Adding scripting functionality to .NET applica...   \n",
              "...                                                    ...   \n",
              "2014509                         Adding large data in Excel   \n",
              "2014510  LinkedIN Encounter error: Your application has...   \n",
              "2014511  Validation for must_be_below_user_limit allowi...   \n",
              "2014512  Drawing an iscosceles triangle of asteriks on C++   \n",
              "2014514  How to execute multiline python code from a ba...   \n",
              "\n",
              "                                                      Body  \\\n",
              "0        I've written database generation script SQL wa...   \n",
              "3        Are really good tutorials explaining branching...   \n",
              "6        Has anyone got experience creating SQL-based A...   \n",
              "7        This something I've pseudo-solved many times n...   \n",
              "16       I little game written C#. It uses database bac...   \n",
              "...                                                    ...   \n",
              "2014509  I around 200,000 data excel separated per 15mi...   \n",
              "2014510  I able connect LinkedIn API two months everyth...   \n",
              "2014511  So I Am building multi-tenant app Rails 4 Apar...   \n",
              "2014512  I learning c++ I'm trying draw iscosceles tria...   \n",
              "2014514  I need extend shell script (bash). As I much f...   \n",
              "\n",
              "                                                    Tag  \n",
              "0                               flex,actionscript-3,air  \n",
              "3          svn,tortoisesvn,branch,branching-and-merging  \n",
              "6                                   sql,asp.net,sitemap  \n",
              "7        algorithm,language-agnostic,colors,color-space  \n",
              "16              c#,.net,scripting,compiler-construction  \n",
              "...                                                 ...  \n",
              "2014509                             excel,excel-formula  \n",
              "2014510                              api,oauth,linkedin  \n",
              "2014511        ruby-on-rails,validation,ruby-on-rails-4  \n",
              "2014512                                             c++  \n",
              "2014514                           python,bash,multiline  \n",
              "\n",
              "[1102568 rows x 6 columns]"
            ]
          },
          "execution_count": 3,
          "metadata": {},
          "output_type": "execute_result"
        }
      ],
      "source": [
        "merged = pd.read_csv(\"questions_answers_tags.csv\", encoding = 'latin1')"
      ]
    },
    {
      "cell_type": "markdown",
      "metadata": {},
      "source": [
        "## Remove Answer_Body and Answer_Score columns"
      ]
    },
    {
      "cell_type": "code",
      "execution_count": null,
      "metadata": {},
      "outputs": [],
      "source": [
        "merged = merged.drop(['Answer_Score','Answer_Body'],axis=1)"
      ]
    },
    {
      "cell_type": "markdown",
      "metadata": {},
      "source": [
        "## Drop duplicates that have been created due to removal of Answer data"
      ]
    },
    {
      "cell_type": "code",
      "execution_count": null,
      "metadata": {},
      "outputs": [],
      "source": [
        "merged = merged.drop_duplicates()"
      ]
    },
    {
      "cell_type": "markdown",
      "metadata": {},
      "source": [
        "## Saving QAs_cleaned.csv file"
      ]
    },
    {
      "cell_type": "code",
      "execution_count": null,
      "metadata": {},
      "outputs": [],
      "source": [
        "merged.to_csv('QAs_cleaned.csv',encoding='latin1')"
      ]
    }
  ],
  "metadata": {
    "accelerator": "GPU",
    "colab": {
      "collapsed_sections": [],
      "name": "Copy of 1 reading_dataset.ipynb",
      "provenance": []
    },
    "kernelspec": {
      "display_name": "Python 3",
      "language": "python",
      "name": "python3"
    },
    "language_info": {
      "codemirror_mode": {
        "name": "ipython",
        "version": 3
      },
      "file_extension": ".py",
      "mimetype": "text/x-python",
      "name": "python",
      "nbconvert_exporter": "python",
      "pygments_lexer": "ipython3",
      "version": "3.8.5"
    }
  },
  "nbformat": 4,
  "nbformat_minor": 0
}
